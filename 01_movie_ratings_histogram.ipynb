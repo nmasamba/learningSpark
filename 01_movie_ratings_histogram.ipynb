{
 "cells": [
  {
   "cell_type": "code",
   "execution_count": 1,
   "metadata": {},
   "outputs": [],
   "source": [
    " \n",
    "# import libraries\n",
    "# SparkContext gives the framework on which to construct RDDs from\n",
    "# Cannot create a Spark context without SparkConf which is the Spark Configuration library\n",
    "from pyspark import SparkConf, SparkContext\n",
    "import collections"
   ]
  },
  {
   "cell_type": "code",
   "execution_count": 2,
   "metadata": {},
   "outputs": [],
   "source": [
    "\n",
    "# get SparkConf and set the master node as the local machine \n",
    "# set the app name to ID it in the UI web logs\n",
    "conf = SparkConf().setMaster(\"local\").setAppName(\"ratings_hist\")\n",
    "\n",
    "# set SparkContext based on above config\n",
    "sc = SparkContext(conf = conf)"
   ]
  },
  {
   "cell_type": "code",
   "execution_count": 7,
   "metadata": {},
   "outputs": [],
   "source": [
    "\n",
    "# get movie data as the RDD\n",
    "lines = sc.textFile(\"spark_resources/ml-100k/u.data\")\n",
    "\n",
    "# extract (map) the data we care about and put that into a new RDD object called ratings\n",
    "ratings = lines.map(lambda x: x.split()[2])\n",
    "\n",
    "# perform a countByValue action on the ratings RDD\n",
    "# at this point the RDD is converted back into a Python object\n",
    "result = ratings.countByValue()"
   ]
  },
  {
   "cell_type": "code",
   "execution_count": 9,
   "metadata": {},
   "outputs": [
    {
     "name": "stdout",
     "output_type": "stream",
     "text": [
      "1 6111\n",
      "2 11370\n",
      "3 27145\n",
      "4 34174\n",
      "5 21203\n"
     ]
    }
   ],
   "source": [
    "\n",
    "sortedResults = collections.OrderedDict(sorted(result.items()))\n",
    "for key, value in sortedResults.items():\n",
    "    print (key, value)"
   ]
  },
  {
   "cell_type": "code",
   "execution_count": null,
   "metadata": {},
   "outputs": [],
   "source": []
  }
 ],
 "metadata": {
  "kernelspec": {
   "display_name": "Python 3",
   "language": "python",
   "name": "python3"
  },
  "language_info": {
   "codemirror_mode": {
    "name": "ipython",
    "version": 3
   },
   "file_extension": ".py",
   "mimetype": "text/x-python",
   "name": "python",
   "nbconvert_exporter": "python",
   "pygments_lexer": "ipython3",
   "version": "3.6.5"
  }
 },
 "nbformat": 4,
 "nbformat_minor": 2
}
