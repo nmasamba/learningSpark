{
 "cells": [
  {
   "cell_type": "code",
   "execution_count": 1,
   "metadata": {},
   "outputs": [],
   "source": [
    "\n",
    "from pyspark import SparkConf, SparkContext\n",
    "from pyspark.mllib.tree import DecisionTree\n",
    "from pyspark.mllib.regression import LabeledPoint\n",
    "from numpy import array"
   ]
  },
  {
   "cell_type": "code",
   "execution_count": 2,
   "metadata": {},
   "outputs": [],
   "source": [
    "\n",
    "conf = SparkConf().setMaster('local').setAppName('SparkDecisionTree')\n",
    "sc = SparkContext(conf = conf)"
   ]
  },
  {
   "cell_type": "code",
   "execution_count": 3,
   "metadata": {},
   "outputs": [],
   "source": [
    "\n",
    "def binary(YN):\n",
    "    if (YN == 'Y'):\n",
    "        return 1\n",
    "    else:\n",
    "        return 0"
   ]
  },
  {
   "cell_type": "code",
   "execution_count": 4,
   "metadata": {},
   "outputs": [],
   "source": [
    "\n",
    "def map_education(degree):\n",
    "    if degree == 'BS':\n",
    "        return 1\n",
    "    if degree == 'MS':\n",
    "        return 2\n",
    "    if degree == 'PhD':\n",
    "        return 3\n",
    "    else:\n",
    "        return 0"
   ]
  },
  {
   "cell_type": "code",
   "execution_count": 5,
   "metadata": {},
   "outputs": [],
   "source": [
    "\n",
    "def create_labeled_points(fields):\n",
    "    years_experience = int(fields[0])\n",
    "    employed = binary(fields[1])\n",
    "    previous_employers = binary(fields[2])\n",
    "    education_level = map_education(fields[3])\n",
    "    top_tier = binary(fields[4])\n",
    "    interned = binary(fields[5])\n",
    "    hired = binary(fields[6])\n",
    "    \n",
    "    return LabeledPoint(hired, array([years_experience, employed, previous_employers, education_level, top_tier, interned]))\n",
    "    "
   ]
  },
  {
   "cell_type": "code",
   "execution_count": 6,
   "metadata": {},
   "outputs": [],
   "source": [
    "\n",
    "raw_data = sc.textFile('DataScience-Python3/PastHires.csv')\n",
    "header = raw_data.first()\n",
    "raw_data = raw_data.filter(lambda x: x != header)"
   ]
  },
  {
   "cell_type": "code",
   "execution_count": 7,
   "metadata": {},
   "outputs": [],
   "source": [
    "csv_data = raw_data.map(lambda x: x.split(','))"
   ]
  },
  {
   "cell_type": "code",
   "execution_count": 8,
   "metadata": {},
   "outputs": [],
   "source": [
    "training_data = csv_data.map(create_labeled_points)"
   ]
  },
  {
   "cell_type": "code",
   "execution_count": 9,
   "metadata": {},
   "outputs": [],
   "source": [
    "# create a fake candidate RDD to test the model\n",
    "test_candidate = [array([10, 1, 3, 3, 1, 0])]\n",
    "test_data = sc.parallelize(test_candidate)"
   ]
  },
  {
   "cell_type": "code",
   "execution_count": 10,
   "metadata": {},
   "outputs": [],
   "source": [
    "\n",
    "# train the decision tree classifier using the data set\n",
    "model = DecisionTree.trainClassifier(training_data, numClasses=2, categoricalFeaturesInfo={1:2, 3:4, 4:2, 5:2}, impurity='gini', maxDepth=5, maxBins=32)"
   ]
  },
  {
   "cell_type": "code",
   "execution_count": 11,
   "metadata": {},
   "outputs": [
    {
     "name": "stdout",
     "output_type": "stream",
     "text": [
      "Hire prediction: \n",
      "1.0\n"
     ]
    }
   ],
   "source": [
    "\n",
    "# run inference and get a prediction for the test candidate\n",
    "predictions = model.predict(test_data)\n",
    "print (\"Hire prediction: \")\n",
    "results = predictions.collect()\n",
    "\n",
    "for result in results:\n",
    "    print (result)"
   ]
  },
  {
   "cell_type": "code",
   "execution_count": 12,
   "metadata": {},
   "outputs": [
    {
     "name": "stdout",
     "output_type": "stream",
     "text": [
      "Learned classification tree model: \n",
      "DecisionTreeModel classifier of depth 4 with 9 nodes\n",
      "  If (feature 1 in {0.0})\n",
      "   If (feature 5 in {0.0})\n",
      "    If (feature 0 <= 0.5)\n",
      "     If (feature 3 in {1.0})\n",
      "      Predict: 0.0\n",
      "     Else (feature 3 not in {1.0})\n",
      "      Predict: 1.0\n",
      "    Else (feature 0 > 0.5)\n",
      "     Predict: 0.0\n",
      "   Else (feature 5 not in {0.0})\n",
      "    Predict: 1.0\n",
      "  Else (feature 1 not in {0.0})\n",
      "   Predict: 1.0\n",
      "\n"
     ]
    }
   ],
   "source": [
    "\n",
    "# We can also print out the decision tree itself\n",
    "print('Learned classification tree model: ')\n",
    "print(model.toDebugString())"
   ]
  }
 ],
 "metadata": {
  "kernelspec": {
   "display_name": "Python 3",
   "language": "python",
   "name": "python3"
  },
  "language_info": {
   "codemirror_mode": {
    "name": "ipython",
    "version": 3
   },
   "file_extension": ".py",
   "mimetype": "text/x-python",
   "name": "python",
   "nbconvert_exporter": "python",
   "pygments_lexer": "ipython3",
   "version": "3.6.5"
  }
 },
 "nbformat": 4,
 "nbformat_minor": 2
}
