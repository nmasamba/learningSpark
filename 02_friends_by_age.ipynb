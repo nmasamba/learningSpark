{
 "cells": [
  {
   "cell_type": "code",
   "execution_count": 2,
   "metadata": {},
   "outputs": [],
   "source": [
    "\"\"\"\n",
    "Analyse a 'social network' (not really, this is a fake database, but hey!). Find the average number of friends\n",
    "associated with each age.\n",
    "\"\"\"\n",
    "\n",
    "from pyspark import SparkConf, SparkContext"
   ]
  },
  {
   "cell_type": "code",
   "execution_count": 3,
   "metadata": {},
   "outputs": [],
   "source": [
    "\n",
    "conf = SparkConf().setMaster(\"local\").setAppName(\"FriendsByAge\")\n",
    "sc = SparkContext(conf = conf)"
   ]
  },
  {
   "cell_type": "code",
   "execution_count": 4,
   "metadata": {},
   "outputs": [],
   "source": [
    "\n",
    "def parse_line(line):\n",
    "    fields = line.split(',')\n",
    "    age = int(fields[2])\n",
    "    num_friends = int(fields[3])\n",
    "    return (age, num_friends)"
   ]
  },
  {
   "cell_type": "code",
   "execution_count": 10,
   "metadata": {},
   "outputs": [
    {
     "name": "stdout",
     "output_type": "stream",
     "text": [
      "PythonRDD[19] at RDD at PythonRDD.scala:48\n"
     ]
    }
   ],
   "source": [
    "\n",
    "lines = sc.textFile('spark_resources/fakefriends.csv')\n",
    "rdd = lines.map(parse_line)\n",
    "totals_by_age = rdd.mapValues(lambda x: (x,1)).reduceByKey(lambda x,y: (x[0] + y[0], x[1] + y[1]))\n",
    "print (totals_by_age)\n",
    "\n"
   ]
  },
  {
   "cell_type": "code",
   "execution_count": 13,
   "metadata": {},
   "outputs": [
    {
     "name": "stdout",
     "output_type": "stream",
     "text": [
      "PythonRDD[21] at RDD at PythonRDD.scala:48\n"
     ]
    }
   ],
   "source": [
    "averages_by_age = totals_by_age.mapValues(lambda x: x[0] / x[1])\n",
    "print (averages_by_age)\n"
   ]
  },
  {
   "cell_type": "code",
   "execution_count": 14,
   "metadata": {},
   "outputs": [
    {
     "name": "stdout",
     "output_type": "stream",
     "text": [
      "[(33, 325.3333333333333), (26, 242.05882352941177), (55, 295.53846153846155), (40, 250.8235294117647), (68, 269.6), (59, 220.0), (37, 249.33333333333334), (54, 278.0769230769231), (38, 193.53333333333333), (27, 228.125), (53, 222.85714285714286), (57, 258.8333333333333), (56, 306.6666666666667), (43, 230.57142857142858), (36, 246.6), (22, 206.42857142857142), (35, 211.625), (45, 309.53846153846155), (60, 202.71428571428572), (67, 214.625), (19, 213.27272727272728), (30, 235.8181818181818), (51, 302.14285714285717), (25, 197.45454545454547), (21, 350.875), (42, 303.5), (49, 184.66666666666666), (48, 281.4), (50, 254.6), (39, 169.28571428571428), (32, 207.9090909090909), (58, 116.54545454545455), (64, 281.3333333333333), (31, 267.25), (52, 340.6363636363636), (24, 233.8), (20, 165.0), (62, 220.76923076923077), (41, 268.55555555555554), (44, 282.1666666666667), (69, 235.2), (65, 298.2), (61, 256.22222222222223), (28, 209.1), (66, 276.44444444444446), (46, 223.69230769230768), (29, 215.91666666666666), (18, 343.375), (47, 233.22222222222223), (34, 245.5), (63, 384.0), (23, 246.3)]\n"
     ]
    }
   ],
   "source": [
    "results = averages_by_age.collect()\n",
    "print (results)"
   ]
  },
  {
   "cell_type": "code",
   "execution_count": 12,
   "metadata": {},
   "outputs": [
    {
     "name": "stdout",
     "output_type": "stream",
     "text": [
      "(33, 325.3333333333333)\n",
      "(26, 242.05882352941177)\n",
      "(55, 295.53846153846155)\n",
      "(40, 250.8235294117647)\n",
      "(68, 269.6)\n",
      "(59, 220.0)\n",
      "(37, 249.33333333333334)\n",
      "(54, 278.0769230769231)\n",
      "(38, 193.53333333333333)\n",
      "(27, 228.125)\n",
      "(53, 222.85714285714286)\n",
      "(57, 258.8333333333333)\n",
      "(56, 306.6666666666667)\n",
      "(43, 230.57142857142858)\n",
      "(36, 246.6)\n",
      "(22, 206.42857142857142)\n",
      "(35, 211.625)\n",
      "(45, 309.53846153846155)\n",
      "(60, 202.71428571428572)\n",
      "(67, 214.625)\n",
      "(19, 213.27272727272728)\n",
      "(30, 235.8181818181818)\n",
      "(51, 302.14285714285717)\n",
      "(25, 197.45454545454547)\n",
      "(21, 350.875)\n",
      "(42, 303.5)\n",
      "(49, 184.66666666666666)\n",
      "(48, 281.4)\n",
      "(50, 254.6)\n",
      "(39, 169.28571428571428)\n",
      "(32, 207.9090909090909)\n",
      "(58, 116.54545454545455)\n",
      "(64, 281.3333333333333)\n",
      "(31, 267.25)\n",
      "(52, 340.6363636363636)\n",
      "(24, 233.8)\n",
      "(20, 165.0)\n",
      "(62, 220.76923076923077)\n",
      "(41, 268.55555555555554)\n",
      "(44, 282.1666666666667)\n",
      "(69, 235.2)\n",
      "(65, 298.2)\n",
      "(61, 256.22222222222223)\n",
      "(28, 209.1)\n",
      "(66, 276.44444444444446)\n",
      "(46, 223.69230769230768)\n",
      "(29, 215.91666666666666)\n",
      "(18, 343.375)\n",
      "(47, 233.22222222222223)\n",
      "(34, 245.5)\n",
      "(63, 384.0)\n",
      "(23, 246.3)\n"
     ]
    }
   ],
   "source": [
    "\n",
    "for result in results:\n",
    "    print (result)"
   ]
  },
  {
   "cell_type": "code",
   "execution_count": null,
   "metadata": {},
   "outputs": [],
   "source": []
  }
 ],
 "metadata": {
  "kernelspec": {
   "display_name": "Python 3",
   "language": "python",
   "name": "python3"
  },
  "language_info": {
   "codemirror_mode": {
    "name": "ipython",
    "version": 3
   },
   "file_extension": ".py",
   "mimetype": "text/x-python",
   "name": "python",
   "nbconvert_exporter": "python",
   "pygments_lexer": "ipython3",
   "version": "3.6.5"
  }
 },
 "nbformat": 4,
 "nbformat_minor": 2
}
