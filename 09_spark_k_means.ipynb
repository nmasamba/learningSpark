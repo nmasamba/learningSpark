{
 "cells": [
  {
   "cell_type": "code",
   "execution_count": 1,
   "metadata": {},
   "outputs": [],
   "source": [
    "\n",
    "from pyspark.mllib.clustering import KMeans\n",
    "from numpy import array, random\n",
    "from math import sqrt\n",
    "from pyspark import SparkConf, SparkContext\n",
    "from sklearn.preprocessing import scale"
   ]
  },
  {
   "cell_type": "code",
   "execution_count": 2,
   "metadata": {},
   "outputs": [],
   "source": [
    "K = 5"
   ]
  },
  {
   "cell_type": "code",
   "execution_count": 3,
   "metadata": {},
   "outputs": [],
   "source": [
    "\n",
    "conf = SparkConf().setMaster('local').setAppName('spark_k_means')\n",
    "sc = SparkContext(conf = conf)"
   ]
  },
  {
   "cell_type": "code",
   "execution_count": 4,
   "metadata": {},
   "outputs": [],
   "source": [
    "\n",
    "# Generate fake income/age clusters for N people in k clusters\n",
    "def gen_clustered_data(N, k):\n",
    "    random.seed(105)\n",
    "    points_per_cluster = float(N)/k\n",
    "    X = []\n",
    "    for i in range(k):\n",
    "        income_centroid = random.uniform(20000.0, 200000.0)\n",
    "        age_centroid = random.uniform(20.0, 70.0)\n",
    "        for j in range(int(points_per_cluster)):\n",
    "            X.append([random.normal(income_centroid, 10000.0), random.normal(age_centroid, 2.0)])\n",
    "    \n",
    "    X = array(X)\n",
    "    return X"
   ]
  },
  {
   "cell_type": "code",
   "execution_count": 5,
   "metadata": {},
   "outputs": [],
   "source": [
    "\n",
    "# Load the data into Spark\n",
    "# NB: VERY IMPORTANT to normalise it with scale() before clustering\n",
    "data = sc.parallelize(scale(gen_clustered_data(100, K)))"
   ]
  },
  {
   "cell_type": "code",
   "execution_count": 6,
   "metadata": {},
   "outputs": [
    {
     "name": "stderr",
     "output_type": "stream",
     "text": [
      "/home/nm16667/anaconda3/lib/python3.6/site-packages/pyspark/mllib/clustering.py:347: UserWarning: The param `runs` has no effect since Spark 2.0.0.\n",
      "  warnings.warn(\"The param `runs` has no effect since Spark 2.0.0.\")\n"
     ]
    }
   ],
   "source": [
    "\n",
    "# Build model i.e. cluster the data\n",
    "clusters = KMeans.train(data, K, maxIterations=10, runs=10, initializationMode='random')"
   ]
  },
  {
   "cell_type": "code",
   "execution_count": 7,
   "metadata": {},
   "outputs": [
    {
     "name": "stdout",
     "output_type": "stream",
     "text": [
      "Counts by value:  defaultdict(<class 'int'>, {1: 10, 2: 14, 4: 20, 0: 36, 3: 20})\n",
      "Cluster assignments:  [1, 2, 1, 1, 2, 2, 1, 1, 2, 1, 2, 1, 2, 2, 2, 1, 2, 1, 2, 1, 4, 4, 4, 4, 4, 4, 4, 4, 4, 4, 4, 4, 4, 4, 4, 4, 4, 4, 4, 4, 0, 0, 0, 0, 0, 0, 0, 0, 0, 0, 0, 0, 0, 0, 0, 0, 0, 0, 0, 0, 2, 0, 2, 0, 0, 0, 0, 0, 0, 2, 2, 0, 0, 0, 0, 0, 0, 0, 0, 0, 3, 3, 3, 3, 3, 3, 3, 3, 3, 3, 3, 3, 3, 3, 3, 3, 3, 3, 3, 3]\n"
     ]
    }
   ],
   "source": [
    "\n",
    "# Print out the cluster assignments\n",
    "result_RDD = data.map(lambda x: clusters.predict(x)).cache()\n",
    "\n",
    "counts = result_RDD.countByValue()\n",
    "print (\"Counts by value: \", counts)\n",
    "\n",
    "results = result_RDD.collect()\n",
    "print (\"Cluster assignments: \", results)"
   ]
  },
  {
   "cell_type": "code",
   "execution_count": 10,
   "metadata": {},
   "outputs": [],
   "source": [
    "\n",
    "# Evaluate clustering by computing Within-Set-Sum-of_Squared_Errors\n",
    "def error(point):\n",
    "    centre = clusters.centers[clusters.predict(point)]\n",
    "    return sqrt(sum([x**2 for x in (point - centre)]))"
   ]
  },
  {
   "cell_type": "code",
   "execution_count": 11,
   "metadata": {},
   "outputs": [
    {
     "name": "stdout",
     "output_type": "stream",
     "text": [
      "Within Set Sum of Squared Error =  28.17351362191744\n"
     ]
    }
   ],
   "source": [
    "\n",
    "WSSSE = data.map(lambda point: error(point)).reduce(lambda x, y: (x+y))\n",
    "print (\"Within Set Sum of Squared Error = \", WSSSE)"
   ]
  },
  {
   "cell_type": "code",
   "execution_count": null,
   "metadata": {},
   "outputs": [],
   "source": []
  }
 ],
 "metadata": {
  "kernelspec": {
   "display_name": "Python 3",
   "language": "python",
   "name": "python3"
  },
  "language_info": {
   "codemirror_mode": {
    "name": "ipython",
    "version": 3
   },
   "file_extension": ".py",
   "mimetype": "text/x-python",
   "name": "python",
   "nbconvert_exporter": "python",
   "pygments_lexer": "ipython3",
   "version": "3.6.5"
  }
 },
 "nbformat": 4,
 "nbformat_minor": 2
}
