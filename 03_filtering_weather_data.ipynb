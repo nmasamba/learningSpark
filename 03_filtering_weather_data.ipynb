{
 "cells": [
  {
   "cell_type": "code",
   "execution_count": 1,
   "metadata": {},
   "outputs": [],
   "source": [
    "\n",
    "from pyspark import SparkConf, SparkContext"
   ]
  },
  {
   "cell_type": "code",
   "execution_count": 2,
   "metadata": {},
   "outputs": [],
   "source": [
    "\n",
    "conf = SparkConf().setMaster('local').setAppName(\"min_temps\")\n",
    "sc = SparkContext(conf = conf)"
   ]
  },
  {
   "cell_type": "code",
   "execution_count": 3,
   "metadata": {},
   "outputs": [],
   "source": [
    "\n",
    "def parse_line(line):\n",
    "    fields = line.split(',')\n",
    "    station_id = fields[0]\n",
    "    entry_type = fields[2]\n",
    "    temperature = float(fields[3]) * 0.1 * (9.0/5.0) + 32.0 # convert to Fahrenheit\n",
    "    return (station_id, entry_type, temperature)"
   ]
  },
  {
   "cell_type": "code",
   "execution_count": 9,
   "metadata": {},
   "outputs": [],
   "source": [
    "\n",
    "lines = sc.textFile('spark_resources/1800.csv')\n",
    "parsed_lines = lines.map(parse_line)\n",
    "\n",
    "min_temps = parsed_lines.filter(lambda x: 'TMIN' in x[1])\n",
    "station_temps = min_temps.map(lambda x: (x[0], x[2]))\n",
    "min_temps = station_temps.reduceByKey(lambda x, y: min(x, y))\n",
    "results = min_temps.collect()\n"
   ]
  },
  {
   "cell_type": "code",
   "execution_count": 10,
   "metadata": {},
   "outputs": [
    {
     "name": "stdout",
     "output_type": "stream",
     "text": [
      "Min temp for station ITE00100554\t5.36F\n",
      "Min temp for station EZE00100082\t7.70F\n"
     ]
    }
   ],
   "source": [
    "\n",
    "for result in results:\n",
    "    print ('Min temp for station '+result[0] + '\\t{:.2f}F'.format(result[1]))"
   ]
  },
  {
   "cell_type": "code",
   "execution_count": 12,
   "metadata": {},
   "outputs": [],
   "source": [
    "\n",
    "max_temps = parsed_lines.filter(lambda x: 'TMAX' in x[1])\n",
    "max_station_temps = max_temps.map(lambda x: (x[0], x[2]))\n",
    "max_temps = max_station_temps.reduceByKey(lambda x, y: max(x, y))\n",
    "max_results = max_temps.collect()"
   ]
  },
  {
   "cell_type": "code",
   "execution_count": 14,
   "metadata": {},
   "outputs": [
    {
     "name": "stdout",
     "output_type": "stream",
     "text": [
      "Max temp for station ITE00100554\t90.14F\n",
      "Max temp for station EZE00100082\t90.14F\n"
     ]
    }
   ],
   "source": [
    "\n",
    "for result in max_results:\n",
    "    print ('Max temp for station '+result[0] + '\\t{:.2f}F'.format(result[1]))"
   ]
  },
  {
   "cell_type": "code",
   "execution_count": null,
   "metadata": {},
   "outputs": [],
   "source": []
  }
 ],
 "metadata": {
  "kernelspec": {
   "display_name": "Python 3",
   "language": "python",
   "name": "python3"
  },
  "language_info": {
   "codemirror_mode": {
    "name": "ipython",
    "version": 3
   },
   "file_extension": ".py",
   "mimetype": "text/x-python",
   "name": "python",
   "nbconvert_exporter": "python",
   "pygments_lexer": "ipython3",
   "version": "3.6.5"
  }
 },
 "nbformat": 4,
 "nbformat_minor": 2
}
