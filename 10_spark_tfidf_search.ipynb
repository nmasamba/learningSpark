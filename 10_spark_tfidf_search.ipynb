{
 "cells": [
  {
   "cell_type": "code",
   "execution_count": 1,
   "metadata": {},
   "outputs": [],
   "source": [
    "\n",
    "from pyspark import SparkConf, SparkContext\n",
    "from pyspark.mllib.feature import HashingTF\n",
    "from pyspark.mllib.feature import IDF\n",
    "import numpy as np"
   ]
  },
  {
   "cell_type": "code",
   "execution_count": 2,
   "metadata": {},
   "outputs": [],
   "source": [
    "\n",
    "conf = SparkConf().setMaster('local').setAppName('tfidf_search')\n",
    "sc = SparkContext(conf = conf)"
   ]
  },
  {
   "cell_type": "code",
   "execution_count": 3,
   "metadata": {},
   "outputs": [],
   "source": [
    "\n",
    "# Load documents (one per line).\n",
    "rawData = sc.textFile(\"DataScience-Python3/subset-small.tsv\")\n",
    "fields = rawData.map(lambda x: x.split(\"\\t\"))\n",
    "documents = fields.map(lambda x: x[3].split(\" \"))\n",
    "\n"
   ]
  },
  {
   "cell_type": "code",
   "execution_count": 4,
   "metadata": {},
   "outputs": [],
   "source": [
    "\n",
    "# Store the document names for later:\n",
    "documentNames = fields.map(lambda x: x[1])\n"
   ]
  },
  {
   "cell_type": "code",
   "execution_count": 5,
   "metadata": {},
   "outputs": [],
   "source": [
    "# Now hash the words in each document to their term frequencies:\n",
    "hashingTF = HashingTF(100000)  #100K hash buckets just to save some memory\n",
    "tf = hashingTF.transform(documents)"
   ]
  },
  {
   "cell_type": "code",
   "execution_count": 6,
   "metadata": {},
   "outputs": [],
   "source": [
    "\n",
    "# At this point we have an RDD of sparse vectors representing each document,\n",
    "# where each value maps to the term frequency of each unique hash value.\n",
    "\n",
    "# Let's compute the TF*IDF of each term in each document:\n",
    "tf.cache()\n",
    "idf = IDF(minDocFreq=5).fit(tf)\n",
    "tfidf = idf.transform(tf)"
   ]
  },
  {
   "cell_type": "code",
   "execution_count": 7,
   "metadata": {},
   "outputs": [],
   "source": [
    "# Now we have an RDD of sparse vectors, where each value is the TFxIDF\n",
    "# of each unique hash value for each document.\n",
    "\n",
    "# I happen to know that the article for \"Abraham Lincoln\" is in our data\n",
    "# set, so let's search for \"Gettysburg\" (Lincoln gave a famous speech there):\n",
    "\n",
    "# First, let's figure out what hash value \"Gettysburg\" maps to by finding the\n",
    "# index a sparse vector from HashingTF gives us back:\n",
    "gettysburgTF = hashingTF.transform([\"Gettysburg\"])\n",
    "gettysburgHashValue = int(gettysburgTF.indices[0])"
   ]
  },
  {
   "cell_type": "code",
   "execution_count": 8,
   "metadata": {},
   "outputs": [],
   "source": [
    "# Now we will extract the TF*IDF score for Gettsyburg's hash value into\n",
    "# a new RDD for each document:\n",
    "gettysburgRelevance = tfidf.map(lambda x: x[gettysburgHashValue])\n",
    "\n",
    "# We'll zip in the document names so we can see which is which:\n",
    "zippedResults = gettysburgRelevance.zip(documentNames)\n"
   ]
  },
  {
   "cell_type": "code",
   "execution_count": 9,
   "metadata": {},
   "outputs": [
    {
     "name": "stdout",
     "output_type": "stream",
     "text": [
      "Best document for Gettysburg is:\n",
      "(4.962844630259907, 'Geography of Africa')\n"
     ]
    }
   ],
   "source": [
    "\n",
    "# And, print the document with the maximum TF*IDF value:\n",
    "print(\"Best document for Gettysburg is:\")\n",
    "print(zippedResults.max())"
   ]
  },
  {
   "cell_type": "code",
   "execution_count": null,
   "metadata": {},
   "outputs": [],
   "source": [
    "\n",
    "# Well, this result is interesting to say the least :)"
   ]
  }
 ],
 "metadata": {
  "kernelspec": {
   "display_name": "Python 3",
   "language": "python",
   "name": "python3"
  },
  "language_info": {
   "codemirror_mode": {
    "name": "ipython",
    "version": 3
   },
   "file_extension": ".py",
   "mimetype": "text/x-python",
   "name": "python",
   "nbconvert_exporter": "python",
   "pygments_lexer": "ipython3",
   "version": "3.6.5"
  }
 },
 "nbformat": 4,
 "nbformat_minor": 2
}
